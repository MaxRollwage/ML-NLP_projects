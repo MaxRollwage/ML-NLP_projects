{
 "cells": [
  {
   "cell_type": "code",
   "execution_count": 17,
   "metadata": {},
   "outputs": [],
   "source": [
    "# load all the toolboxes required\n",
    "import pandas as pd\n",
    "import matplotlib as plt\n",
    "import numpy as np\n",
    "#from patsy import dmatrix\n",
    "import requests, zipfile, io\n",
    "from tqdm import tqdm\n",
    "from sklearn.preprocessing import scale\n",
    "from sklearn.linear_model import LogisticRegression\n",
    "from sklearn.model_selection import cross_val_score\n",
    "from sklearn.model_selection import train_test_split\n",
    "from sklearn import svm\n",
    "from sklearn import linear_model"
   ]
  },
  {
   "cell_type": "code",
   "execution_count": 18,
   "metadata": {},
   "outputs": [
    {
     "name": "stderr",
     "output_type": "stream",
     "text": [
      "\n",
      "  0%|                                                                                            | 0/6 [00:00<?, ?it/s]\u001b[A\n",
      " 17%|██████████████                                                                      | 1/6 [00:01<00:07,  1.57s/it]\u001b[A\n",
      " 33%|████████████████████████████                                                        | 2/6 [00:02<00:06,  1.50s/it]\u001b[A\n",
      " 50%|██████████████████████████████████████████                                          | 3/6 [00:04<00:04,  1.50s/it]\u001b[A\n",
      " 67%|████████████████████████████████████████████████████████                            | 4/6 [00:06<00:03,  1.61s/it]\u001b[A\n",
      " 83%|██████████████████████████████████████████████████████████████████████              | 5/6 [00:07<00:01,  1.46s/it]\u001b[A\n",
      "100%|████████████████████████████████████████████████████████████████████████████████████| 6/6 [00:08<00:00,  1.42s/it]\u001b[A"
     ]
    },
    {
     "name": "stdout",
     "output_type": "stream",
     "text": [
      "      ATP  Location              Tournament       Date       Series    Court  \\\n",
      "0       1  Brisbane  Brisbane International 2012-12-31       ATP250  Outdoor   \n",
      "1       1  Brisbane  Brisbane International 2012-12-31       ATP250  Outdoor   \n",
      "2       1  Brisbane  Brisbane International 2012-12-31       ATP250  Outdoor   \n",
      "3       1  Brisbane  Brisbane International 2012-12-31       ATP250  Outdoor   \n",
      "4       1  Brisbane  Brisbane International 2013-01-01       ATP250  Outdoor   \n",
      "...   ...       ...                     ...        ...          ...      ...   \n",
      "2632   67    London             Masters Cup 2018-11-16  Masters Cup   Indoor   \n",
      "2633   67    London             Masters Cup 2018-11-16  Masters Cup   Indoor   \n",
      "2634   67    London             Masters Cup 2018-11-17  Masters Cup   Indoor   \n",
      "2635   67    London             Masters Cup 2018-11-17  Masters Cup   Indoor   \n",
      "2636   67    London             Masters Cup 2018-11-18  Masters Cup   Indoor   \n",
      "\n",
      "     Surface        Round  Best of        Winner  ...   LBL   PSW   PSL   SJW  \\\n",
      "0       Hard    1st Round        3      Mayer F.  ...  2.62  1.47  2.85  1.44   \n",
      "1       Hard    1st Round        3   Nieminen J.  ...  1.91  1.80  2.10  1.73   \n",
      "2       Hard    1st Round        3  Nishikori K.  ...  3.50  1.30  3.85  1.30   \n",
      "3       Hard    1st Round        3  Baghdatis M.  ...  7.00  1.08  9.43  1.07   \n",
      "4       Hard    1st Round        3    Istomin D.  ...  1.80  1.88  2.00  1.91   \n",
      "...      ...          ...      ...           ...  ...   ...   ...   ...   ...   \n",
      "2632    Hard  Round Robin        3     Zverev A.  ...   NaN  1.40  3.22   NaN   \n",
      "2633    Hard  Round Robin        3   Djokovic N.  ...   NaN  1.20  5.23   NaN   \n",
      "2634    Hard   Semifinals        3     Zverev A.  ...   NaN  3.24  1.41   NaN   \n",
      "2635    Hard   Semifinals        3   Djokovic N.  ...   NaN  1.12  7.72   NaN   \n",
      "2636    Hard    The Final        3     Zverev A.  ...   NaN  6.36  1.16   NaN   \n",
      "\n",
      "       SJL  MaxW  MaxL  AvgW  AvgL  year  \n",
      "0     2.63  1.47  3.20  1.42  2.78  2013  \n",
      "1     2.00  1.80  2.26  1.73  2.05  2013  \n",
      "2     3.20  1.30  4.20  1.28  3.58  2013  \n",
      "3     7.00  1.10  9.50  1.08  7.76  2013  \n",
      "4     1.80  2.05  2.00  1.88  1.85  2013  \n",
      "...    ...   ...   ...   ...   ...   ...  \n",
      "2632   NaN  1.44  3.40  1.38  3.14  2018  \n",
      "2633   NaN  1.22  6.03  1.17  5.14  2018  \n",
      "2634   NaN  3.40  1.45  3.14  1.38  2018  \n",
      "2635   NaN  1.15  7.72  1.12  6.52  2018  \n",
      "2636   NaN  6.36  1.22  5.69  1.15  2018  \n",
      "\n",
      "[15757 rows x 43 columns]\n"
     ]
    },
    {
     "name": "stderr",
     "output_type": "stream",
     "text": [
      "\n"
     ]
    }
   ],
   "source": [
    "# load the data directly from the website\n",
    "dfs = []\n",
    "\n",
    "for year in tqdm(range(2013, 2019)):\n",
    "    r = requests.get('http://www.tennis-data.co.uk/{0}/{0}.zip'.format(year))\n",
    "    z = zipfile.ZipFile(io.BytesIO(r.content))\n",
    "    df = pd.read_excel(z.open('{0}.xlsx'.format(year)))\n",
    "    df['year'] = year\n",
    "    dfs.append(df)\n",
    "\n",
    "df = pd.concat(dfs)\n",
    "print(df)"
   ]
  },
  {
   "cell_type": "code",
   "execution_count": 19,
   "metadata": {},
   "outputs": [],
   "source": [
    "# Create new data object for the real classification\n",
    "col_names =  ['classifier_labels', 'World_rank', 'World_rank_points']\n",
    "index_len=len(df['ATP'])*2\n",
    "index=range(1, index_len)\n",
    "classifier_input  = pd.DataFrame(index=range(0, index_len), columns = col_names)\n",
    "unique_person=np.concatenate((df['Winner'], df['Loser']), 0)\n",
    "surfaces=np.concatenate((df['Surface'], df['Surface']), 0)\n"
   ]
  },
  {
   "cell_type": "code",
   "execution_count": 20,
   "metadata": {},
   "outputs": [],
   "source": [
    "#clean data up\n",
    "df['W3'].fillna(0, inplace=True)\n",
    "df['L3'].fillna(0, inplace=True)\n"
   ]
  },
  {
   "cell_type": "code",
   "execution_count": 21,
   "metadata": {},
   "outputs": [
    {
     "name": "stdout",
     "output_type": "stream",
     "text": [
      "[ 4. -1.  6. ... -3. -8. -5.]\n"
     ]
    }
   ],
   "source": [
    "# Create labels to train the calssifier on (winner=1 & loser =0)\n",
    "zero_data=np.zeros((len(df['ATP'])))\n",
    "ones_data=np.ones((len(df['ATP'])))\n",
    "classifier_labels=np.concatenate((ones_data, zero_data), 0)\n",
    "\n",
    "Set_diff1=df['Wsets']-df['Lsets']\n",
    "Set_diff2=df['Lsets']-df['Wsets']\n",
    "classifier_graded_input=np.concatenate((Set_diff1, Set_diff2), 0)\n",
    "\n",
    "Win_point=df['W1']+df['W2']\n",
    "Loose_point=df['L1']+df['L2']\n",
    "Point_diff1=Win_point-Loose_point\n",
    "Point_diff2=Loose_point-Win_point\n",
    "classifier_graded_input2=np.concatenate((Point_diff1, Point_diff2), 0)\n",
    "print(classifier_graded_input2)"
   ]
  },
  {
   "cell_type": "code",
   "execution_count": 22,
   "metadata": {},
   "outputs": [],
   "source": [
    "# Create predictors that match the dimensions of the classifier labels\n",
    "# THIS IS THE PLACE WHERE I NEED TO INTRODUCE NEW PREDICTORS\n",
    "World_rank_diff1=df['WRank']-df['LRank']\n",
    "World_rank_diff2=df['LRank']-df['WRank']\n",
    "World_point_diff1=df['WPts']-df['LPts']\n",
    "World_point_diff2=df['LPts']-df['WPts']\n",
    "\n",
    "World_rank=np.concatenate((df['WRank'],df['LRank']), 0)\n",
    "World_rank_points=np.concatenate((df['WPts'],df['LPts']),0)\n",
    "World_rank_diff=np.concatenate((World_rank_diff1,World_rank_diff2),0)\n",
    "World_point_diff=np.concatenate((World_point_diff1,World_point_diff2),0)"
   ]
  },
  {
   "cell_type": "code",
   "execution_count": 23,
   "metadata": {},
   "outputs": [
    {
     "name": "stdout",
     "output_type": "stream",
     "text": [
      "               name\n",
      "0          Mayer F.\n",
      "1       Nieminen J.\n",
      "2      Nishikori K.\n",
      "3      Baghdatis M.\n",
      "4        Istomin D.\n",
      "...             ...\n",
      "31509      Isner J.\n",
      "31510      Cilic M.\n",
      "31511    Federer R.\n",
      "31512   Anderson K.\n",
      "31513   Djokovic N.\n",
      "\n",
      "[30948 rows x 1 columns]\n"
     ]
    }
   ],
   "source": [
    "# Clean up the data to exclude NaNs\n",
    "classifier_input = pd.DataFrame(dict(classifier_labels=classifier_labels,classifier_graded_input=classifier_graded_input,\n",
    "                                     classifier_graded_input2=classifier_graded_input2, World_rank=World_rank, World_rank_point=World_rank_points, \n",
    "                                     World_rank_diff=World_rank_diff,World_point_diff=World_point_diff,Player=unique_person, surfaces=surfaces))\n",
    "\n",
    "classifier_input=classifier_input.dropna(subset=['classifier_labels','classifier_graded_input','classifier_graded_input2', 'World_rank', 'World_rank_point','World_rank_diff', 'World_point_diff', 'Player', 'surfaces'])\n",
    "Players_un=pd.DataFrame(dict(name=classifier_input['Player']))\n",
    "Surface=pd.DataFrame(dict(name=classifier_input['surfaces']))\n",
    "\n",
    "print(Players_un)"
   ]
  },
  {
   "cell_type": "code",
   "execution_count": 24,
   "metadata": {},
   "outputs": [
    {
     "name": "stderr",
     "output_type": "stream",
     "text": [
      "C:\\Users\\mrowl\\Miniconda3\\lib\\site-packages\\ipykernel_launcher.py:4: SettingWithCopyWarning: \n",
      "A value is trying to be set on a copy of a slice from a DataFrame\n",
      "\n",
      "See the caveats in the documentation: https://pandas.pydata.org/pandas-docs/stable/user_guide/indexing.html#returning-a-view-versus-a-copy\n",
      "  after removing the cwd from sys.path.\n"
     ]
    },
    {
     "name": "stdout",
     "output_type": "stream",
     "text": [
      "               name  Player0  Player1  Player2  Player3  Player4  Player5  \\\n",
      "0          Mayer F.      1.0      0.0      0.0      0.0      0.0      0.0   \n",
      "1       Nieminen J.      0.0      1.0      0.0      0.0      0.0      0.0   \n",
      "2      Nishikori K.      0.0      0.0      1.0      0.0      0.0      0.0   \n",
      "3      Baghdatis M.      0.0      0.0      0.0      1.0      0.0      0.0   \n",
      "4        Istomin D.      0.0      0.0      0.0      0.0      1.0      0.0   \n",
      "...             ...      ...      ...      ...      ...      ...      ...   \n",
      "31509      Isner J.      0.0      0.0      0.0      0.0      0.0      0.0   \n",
      "31510      Cilic M.      0.0      0.0      0.0      0.0      0.0      0.0   \n",
      "31511    Federer R.      0.0      0.0      0.0      0.0      0.0      0.0   \n",
      "31512   Anderson K.      0.0      0.0      0.0      0.0      0.0      0.0   \n",
      "31513   Djokovic N.      0.0      0.0      0.0      0.0      0.0      0.0   \n",
      "\n",
      "       Player6  Player7  Player8  ...  Player581  Player582  Player583  \\\n",
      "0          0.0      0.0      0.0  ...        0.0        0.0        0.0   \n",
      "1          0.0      0.0      0.0  ...        0.0        0.0        0.0   \n",
      "2          0.0      0.0      0.0  ...        0.0        0.0        0.0   \n",
      "3          0.0      0.0      0.0  ...        0.0        0.0        0.0   \n",
      "4          0.0      0.0      0.0  ...        0.0        0.0        0.0   \n",
      "...        ...      ...      ...  ...        ...        ...        ...   \n",
      "31509      0.0      0.0      0.0  ...        0.0        0.0        0.0   \n",
      "31510      0.0      0.0      0.0  ...        0.0        0.0        0.0   \n",
      "31511      0.0      0.0      0.0  ...        0.0        0.0        0.0   \n",
      "31512      0.0      0.0      0.0  ...        0.0        0.0        0.0   \n",
      "31513      0.0      0.0      0.0  ...        0.0        0.0        0.0   \n",
      "\n",
      "       Player584  Player585  Player586  Player587  Player588  Player589  \\\n",
      "0            0.0        0.0        0.0        0.0        0.0        0.0   \n",
      "1            0.0        0.0        0.0        0.0        0.0        0.0   \n",
      "2            0.0        0.0        0.0        0.0        0.0        0.0   \n",
      "3            0.0        0.0        0.0        0.0        0.0        0.0   \n",
      "4            0.0        0.0        0.0        0.0        0.0        0.0   \n",
      "...          ...        ...        ...        ...        ...        ...   \n",
      "31509        0.0        0.0        0.0        0.0        0.0        0.0   \n",
      "31510        0.0        0.0        0.0        0.0        0.0        0.0   \n",
      "31511        0.0        0.0        0.0        0.0        0.0        0.0   \n",
      "31512        0.0        0.0        0.0        0.0        0.0        0.0   \n",
      "31513        0.0        0.0        0.0        0.0        0.0        0.0   \n",
      "\n",
      "       Player590  \n",
      "0            0.0  \n",
      "1            0.0  \n",
      "2            0.0  \n",
      "3            0.0  \n",
      "4            0.0  \n",
      "...          ...  \n",
      "31509        0.0  \n",
      "31510        0.0  \n",
      "31511        0.0  \n",
      "31512        0.0  \n",
      "31513        0.0  \n",
      "\n",
      "[30948 rows x 592 columns]\n"
     ]
    },
    {
     "ename": "IndexError",
     "evalue": "index 590 is out of bounds for axis 0 with size 3",
     "output_type": "error",
     "traceback": [
      "\u001b[1;31m---------------------------------------------------------------------------\u001b[0m",
      "\u001b[1;31mIndexError\u001b[0m                                Traceback (most recent call last)",
      "\u001b[1;32m<ipython-input-24-0d84d99a2a10>\u001b[0m in \u001b[0;36m<module>\u001b[1;34m\u001b[0m\n\u001b[0;32m      7\u001b[0m \u001b[1;32mfor\u001b[0m \u001b[0msur\u001b[0m \u001b[1;32min\u001b[0m \u001b[0mrange\u001b[0m\u001b[1;33m(\u001b[0m\u001b[1;36m0\u001b[0m\u001b[1;33m,\u001b[0m \u001b[0mlen\u001b[0m\u001b[1;33m(\u001b[0m\u001b[0msurface_in_data\u001b[0m\u001b[1;33m)\u001b[0m\u001b[1;33m)\u001b[0m\u001b[1;33m:\u001b[0m\u001b[1;33m\u001b[0m\u001b[1;33m\u001b[0m\u001b[0m\n\u001b[0;32m      8\u001b[0m     \u001b[0mSurface\u001b[0m\u001b[1;33m[\u001b[0m\u001b[1;34m'Surface{0}'\u001b[0m\u001b[1;33m.\u001b[0m\u001b[0mformat\u001b[0m\u001b[1;33m(\u001b[0m\u001b[0msur\u001b[0m\u001b[1;33m)\u001b[0m\u001b[1;33m]\u001b[0m\u001b[1;33m=\u001b[0m\u001b[0mnp\u001b[0m\u001b[1;33m.\u001b[0m\u001b[0mzeros\u001b[0m\u001b[1;33m(\u001b[0m\u001b[1;33m(\u001b[0m\u001b[0mlen\u001b[0m\u001b[1;33m(\u001b[0m\u001b[0mclassifier_input\u001b[0m\u001b[1;33m[\u001b[0m\u001b[1;34m'classifier_labels'\u001b[0m\u001b[1;33m]\u001b[0m\u001b[1;33m)\u001b[0m\u001b[1;33m)\u001b[0m\u001b[1;33m)\u001b[0m\u001b[1;33m\u001b[0m\u001b[1;33m\u001b[0m\u001b[0m\n\u001b[1;32m----> 9\u001b[1;33m     \u001b[0mSurface\u001b[0m\u001b[1;33m[\u001b[0m\u001b[1;34m'Surface{0}'\u001b[0m\u001b[1;33m.\u001b[0m\u001b[0mformat\u001b[0m\u001b[1;33m(\u001b[0m\u001b[0msur\u001b[0m\u001b[1;33m)\u001b[0m\u001b[1;33m]\u001b[0m\u001b[1;33m[\u001b[0m\u001b[0mclassifier_input\u001b[0m\u001b[1;33m[\u001b[0m\u001b[1;34m'surfaces'\u001b[0m\u001b[1;33m]\u001b[0m\u001b[1;33m==\u001b[0m\u001b[0msurface_in_data\u001b[0m\u001b[1;33m[\u001b[0m\u001b[0munique\u001b[0m\u001b[1;33m]\u001b[0m\u001b[1;33m]\u001b[0m\u001b[1;33m=\u001b[0m\u001b[1;36m1\u001b[0m\u001b[1;33m\u001b[0m\u001b[1;33m\u001b[0m\u001b[0m\n\u001b[0m\u001b[0;32m     10\u001b[0m \u001b[1;33m\u001b[0m\u001b[0m\n",
      "\u001b[1;31mIndexError\u001b[0m: index 590 is out of bounds for axis 0 with size 3"
     ]
    }
   ],
   "source": [
    "player_in_data=Players_un.name.unique()\n",
    "for unique in range(0, len(player_in_data)):\n",
    "    Players_un['Player{0}'.format(unique)]=np.zeros((len(classifier_input['classifier_labels'])))\n",
    "    Players_un['Player{0}'.format(unique)][classifier_input['Player']==player_in_data[unique]]=1\n",
    "print(Players_un)\n",
    "surface_in_data=Surface.name.unique()\n",
    "for sur in range(0, len(surface_in_data)):\n",
    "    Surface['Surface{0}'.format(sur)]=np.zeros((len(classifier_input['classifier_labels'])))\n",
    "    Surface['Surface{0}'.format(sur)][classifier_input['surfaces']==surface_in_data[unique]]=1\n",
    "\n"
   ]
  },
  {
   "cell_type": "code",
   "execution_count": null,
   "metadata": {},
   "outputs": [],
   "source": [
    "# Set up the classifier_labels and divide the data into train and test set\n",
    "clf = LogisticRegression()\n",
    "X = classifier_input[['World_rank', 'World_rank_point', 'World_rank_diff', 'World_point_diff']]\n",
    "for unique in tqdm(range(0, len(player_in_data))):\n",
    "    X['Player{0}'.format(unique)]=Players_un['Player{0}'.format(unique)]\n",
    "print(X)    \n",
    "X = scale(X)\n",
    "Y=classifier_input['classifier_labels']\n",
    "Y_continuous=classifier_input['classifier_graded_input']\n",
    "Y_continuous2=classifier_input['classifier_graded_input2']\n",
    "\n",
    "#X_train, X_test, y_train, y_test = train_test_split(X, Y, test_size=0.4, random_state=0)"
   ]
  },
  {
   "cell_type": "code",
   "execution_count": 25,
   "metadata": {},
   "outputs": [
    {
     "name": "stderr",
     "output_type": "stream",
     "text": [
      "\n",
      "  0%|                                                                                            | 0/4 [00:00<?, ?it/s]\u001b[A\n",
      " 25%|████████████████████▊                                                              | 1/4 [07:22<22:06, 442.05s/it]\u001b[A"
     ]
    },
    {
     "name": "stdout",
     "output_type": "stream",
     "text": [
      "0.6498642884839085\n"
     ]
    },
    {
     "name": "stderr",
     "output_type": "stream",
     "text": [
      "\n",
      " 50%|█████████████████████████████████████████▌                                         | 2/4 [14:44<14:44, 442.25s/it]\u001b[A"
     ]
    },
    {
     "name": "stdout",
     "output_type": "stream",
     "text": [
      "0.6485717978544655\n"
     ]
    },
    {
     "name": "stderr",
     "output_type": "stream",
     "text": [
      "\n",
      " 75%|██████████████████████████████████████████████████████████████▎                    | 3/4 [22:12<07:23, 443.82s/it]\u001b[A"
     ]
    },
    {
     "name": "stdout",
     "output_type": "stream",
     "text": [
      "0.6520615225539614\n"
     ]
    },
    {
     "name": "stderr",
     "output_type": "stream",
     "text": [
      "\n",
      "100%|███████████████████████████████████████████████████████████████████████████████████| 4/4 [29:46<00:00, 446.56s/it]\u001b[A"
     ]
    },
    {
     "name": "stdout",
     "output_type": "stream",
     "text": [
      "0.6507690319245185\n"
     ]
    },
    {
     "name": "stderr",
     "output_type": "stream",
     "text": [
      "\n"
     ]
    }
   ],
   "source": [
    "# test a linear svm \n",
    "vector_machine = svm.SVC(kernel='linear')\n",
    "for fold in tqdm(range(1, 5)):\n",
    "    X_train, X_test, y_train, y_test = train_test_split(X, Y)\n",
    "    svm_model = vector_machine.fit(X_train, y_train)\n",
    "    print(svm_model.score(X_test, y_test))"
   ]
  },
  {
   "cell_type": "code",
   "execution_count": null,
   "metadata": {},
   "outputs": [],
   "source": [
    "# test a linear sv-regression\n",
    "vector_machine_regression = svm.SVR(kernel='linear')\n",
    "\n",
    "for fold in tqdm(range(1, 5)):\n",
    "    X_train, X_test, y_train, y_test = train_test_split(X, Y_continuous)\n",
    "    svm_model_reg = vector_machine_regression.fit(X_train, y_train)\n",
    "    print(svm_model_reg.predict(X_test))\n"
   ]
  },
  {
   "cell_type": "code",
   "execution_count": 92,
   "metadata": {},
   "outputs": [
    {
     "name": "stderr",
     "output_type": "stream",
     "text": [
      "\n",
      "\n",
      "\n",
      "\n",
      "\n",
      "\n",
      "\n",
      "\n",
      "\n",
      "\n",
      "\n",
      "\n",
      "\n",
      "\n",
      "\n",
      "\n",
      "\n",
      "\n",
      "\n",
      "  0%|                                                                                            | 0/4 [00:00<?, ?it/s]"
     ]
    },
    {
     "name": "stdout",
     "output_type": "stream",
     "text": [
      "0.653612511309293\n"
     ]
    },
    {
     "name": "stderr",
     "output_type": "stream",
     "text": [
      "\n",
      "\n",
      "\n",
      "\n",
      "\n",
      "\n",
      "\n",
      "\n",
      "\n",
      "\n",
      "\n",
      "\n",
      "\n",
      "\n",
      "\n",
      "\n",
      "\n",
      "\n",
      "\n",
      " 25%|████████████████████▊                                                              | 1/4 [01:46<05:19, 106.57s/it]"
     ]
    },
    {
     "name": "stdout",
     "output_type": "stream",
     "text": [
      "0.663693938218948\n"
     ]
    },
    {
     "name": "stderr",
     "output_type": "stream",
     "text": [
      "\n",
      "\n",
      "\n",
      "\n",
      "\n",
      "\n",
      "\n",
      "\n",
      "\n",
      "\n",
      "\n",
      "\n",
      "\n",
      "\n",
      "\n",
      "\n",
      "\n",
      "\n",
      "\n",
      " 50%|█████████████████████████████████████████▌                                         | 2/4 [03:35<03:34, 107.30s/it]"
     ]
    },
    {
     "name": "stdout",
     "output_type": "stream",
     "text": [
      "0.6586532247641205\n"
     ]
    },
    {
     "name": "stderr",
     "output_type": "stream",
     "text": [
      "\n",
      "\n",
      "\n",
      "\n",
      "\n",
      "\n",
      "\n",
      "\n",
      "\n",
      "\n",
      "\n",
      "\n",
      "\n",
      "\n",
      "\n",
      "\n",
      "\n",
      "\n",
      "\n",
      " 75%|██████████████████████████████████████████████████████████████▎                    | 3/4 [05:21<01:46, 106.84s/it]"
     ]
    },
    {
     "name": "stdout",
     "output_type": "stream",
     "text": [
      "0.663693938218948\n"
     ]
    },
    {
     "name": "stderr",
     "output_type": "stream",
     "text": [
      "\n",
      "\n",
      "\n",
      "\n",
      "\n",
      "\n",
      "\n",
      "\n",
      "\n",
      "\n",
      "\n",
      "\n",
      "\n",
      "\n",
      "\n",
      "\n",
      "\n",
      "\n",
      "\n",
      "100%|███████████████████████████████████████████████████████████████████████████████████| 4/4 [07:10<00:00, 107.50s/it]\n",
      "\n",
      "\n",
      "\n",
      "\n",
      "\n",
      "\n",
      "\n",
      "\n",
      "\n",
      "\n",
      "\n",
      "\n",
      "\n",
      "\n",
      "\n",
      "\n",
      "\n",
      "\n"
     ]
    }
   ],
   "source": [
    "# combine a regression svr and feed it into a svc\n",
    "vector_machine_regression = svm.SVR(kernel='linear')\n",
    "vector_machine = svm.SVC(kernel='rbf')\n",
    "\n",
    "for fold in tqdm(range(1, 5)):\n",
    "    X_train, X_test, y_train_cont, y_test_cont = train_test_split(X, Y_continuous, random_state=fold)\n",
    "    X_train, X_test, y_train_cont2, y_test_cont2 = train_test_split(X, Y_continuous2, random_state=fold)\n",
    "\n",
    "    X_train, X_test, y_train_clas, y_test_clas = train_test_split(X, Y, random_state=fold)\n",
    "\n",
    "    svm_model_reg = vector_machine_regression.fit(X_train, y_train_cont)\n",
    "    continuous_input_svc_train=svm_model_reg.predict(X_train)\n",
    "    continuous_input_svc_test=svm_model_reg.predict(X_test)\n",
    "    \n",
    "    svm_model_reg2 = vector_machine_regression.fit(X_train, y_train_cont2)\n",
    "    continuous_input_svc_train2=svm_model_reg.predict(X_train)\n",
    "    continuous_input_svc_test2=svm_model_reg.predict(X_test)\n",
    "    \n",
    "    continuous_input_train = pd.DataFrame(dict(continuous_input_svc_train=continuous_input_svc_train, continuous_input_svc_train2=continuous_input_svc_train2))\n",
    "    continuous_input_test = pd.DataFrame(dict(continuous_input_svc_test=continuous_input_svc_test, continuous_input_svc_test2=continuous_input_svc_test2))\n",
    "\n",
    "    \n",
    "    X_comb_train = continuous_input_train[['continuous_input_svc_train', 'continuous_input_svc_train2']]\n",
    "    X_comb_train = scale(X_comb_train)\n",
    "    \n",
    "    X_comb_test = continuous_input_test[['continuous_input_svc_test', 'continuous_input_svc_test2']]\n",
    "    X_comb_test = scale(X_comb_test)\n",
    "    \n",
    "    svm_model = vector_machine.fit(X_comb_train, y_train_clas)\n",
    "    print(svm_model.score(X_comb_test, y_test_clas))"
   ]
  }
 ],
 "metadata": {
  "kernelspec": {
   "display_name": "Python 3",
   "language": "python",
   "name": "python3"
  },
  "language_info": {
   "codemirror_mode": {
    "name": "ipython",
    "version": 3
   },
   "file_extension": ".py",
   "mimetype": "text/x-python",
   "name": "python",
   "nbconvert_exporter": "python",
   "pygments_lexer": "ipython3",
   "version": "3.7.6"
  }
 },
 "nbformat": 4,
 "nbformat_minor": 4
}
